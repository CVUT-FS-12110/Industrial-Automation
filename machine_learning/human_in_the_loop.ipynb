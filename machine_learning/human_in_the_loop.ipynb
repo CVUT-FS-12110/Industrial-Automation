{
 "cells": [
  {
   "cell_type": "markdown",
   "id": "4257dc38-0dec-4ad4-ae3f-656be0fa7a19",
   "metadata": {},
   "source": [
    "# Human in the loop - model retraining"
   ]
  },
  {
   "cell_type": "code",
   "execution_count": 2,
   "id": "e10520ac-dbfd-4136-9242-da5666fd477b",
   "metadata": {},
   "outputs": [],
   "source": [
    "import numpy as np\n",
    "import matplotlib.pyplot as plt\n",
    "from sklearn import svm, tree\n",
    "\n",
    "from IPython.display import clear_output"
   ]
  },
  {
   "cell_type": "code",
   "execution_count": 23,
   "id": "df88b1d3-ea91-4569-a58f-14f92410d1fd",
   "metadata": {},
   "outputs": [
    {
     "name": "stdout",
     "output_type": "stream",
     "text": [
      "Current number of datapoints: 45\n"
     ]
    },
    {
     "data": {
      "image/png": "[encoded data removed]",
      "text/plain": [
       "<Figure size 640x480 with 1 Axes>"
      ]
     },
     "metadata": {},
     "output_type": "display_data"
    },
    {
     "name": "stdout",
     "output_type": "stream",
     "text": [
      "{'purple': 1, 'magenta': 5, 'blure': 1, 'yellow': 2, 'cyan': 1, 'gray': 3, 'blue': 13, 'green': 13, 'orange': 1, 'red': 4, 'brown': 1}\n"
     ]
    },
    {
     "name": "stdin",
     "output_type": "stream",
     "text": [
      " \n"
     ]
    }
   ],
   "source": [
    "DATASET_PATH = \"colors_dataset.txt\"\n",
    "\n",
    "while True:\n",
    "    clear_output(wait=True)\n",
    "    \n",
    "    with open(DATASET_PATH, \"r\") as fh:\n",
    "        data = fh.read().split(\"\\n\")\n",
    "\n",
    "    datapoints = [p.split(\",\") for p in data if p]\n",
    "    training_codes = [p[0].split(\" \") for p in datapoints]\n",
    "    training_labels = [p[1].replace(\" \", \"\") for p in datapoints]\n",
    "    print(f\"Current number of datapoints: {len(datapoints)}\")\n",
    "\n",
    "    unique_labels = set(training_labels)\n",
    "    unique_labels = {label: training_labels.count(label) for label in set(training_labels)}\n",
    "    \n",
    "    \n",
    "    clf_svm = svm.SVC()\n",
    "    clf_svm.fit(training_codes, training_labels)\n",
    "    \n",
    "    code = np.random.randint(0, 255, 3)\n",
    "    label = clf_svm.predict([code,])[0]\n",
    "    \n",
    "    image = (np.ones((20, 200, 3)) * code).astype(\"uint8\")\n",
    "    plt.imshow(image)\n",
    "    plt.title(f\"{code} - SVM: {label}\")\n",
    "    plt.show()\n",
    "    \n",
    "    print(unique_labels)\n",
    "    choice = input()\n",
    "    if choice:\n",
    "        with open(DATASET_PATH, \"a\") as fh:\n",
    "            fh.write(f\"{code[0]} {code[1]} {code[2]}, {choice}\\n\")\n",
    "    else:\n",
    "        break\n",
    "\n",
    "    \n"
   ]
  },
  {
   "cell_type": "code",
   "execution_count": null,
   "id": "24b3a4dc-b81c-4386-acaa-b7cb98c3015e",
   "metadata": {},
   "outputs": [],
   "source": [
    "\n"
   ]
  }
 ],
 "metadata": {
  "kernelspec": {
   "display_name": "Python 3 (ipykernel)",
   "language": "python",
   "name": "python3"
  },
  "language_info": {
   "codemirror_mode": {
    "name": "ipython",
    "version": 3
   },
   "file_extension": ".py",
   "mimetype": "text/x-python",
   "name": "python",
   "nbconvert_exporter": "python",
   "pygments_lexer": "ipython3",
   "version": "3.10.11"
  }
 },
 "nbformat": 4,
 "nbformat_minor": 5
}
